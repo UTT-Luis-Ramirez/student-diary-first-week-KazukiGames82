{
  "nbformat": 4,
  "nbformat_minor": 0,
  "metadata": {
    "colab": {
      "provenance": []
    },
    "kernelspec": {
      "name": "python3",
      "display_name": "Python 3"
    },
    "language_info": {
      "name": "python"
    }
  },
  "cells": [
    {
      "cell_type": "markdown",
      "source": [
        "### • 06/01/2025 - Clase 1\n",
        "\n",
        "---\n",
        "\n",
        "|   Termino   |  ¿Qué es?  | ¿Qué deseo saber? | ¿Que aprendi? |\n",
        "|:-----------:|:----------:|:-----------------:|:-------------:|\n",
        "| Estadistica | Es una rama de la matematica que<br>recopila, organiza y analiza datos | ... | ... |\n",
        "| Dato        | Es la informacion que se usa para un analisis   | ... | ... |\n",
        "| Conjuntos   | Es la agrupacion de datos del mismo tipo | ... | ... |\n",
        "| Axiomas     | Es algo que no es necesario demostrar<br>por lo claro que es   | ... | ... |\n",
        "| Probabilidad| Es lo que demuestra que tan<br>probable es que pase algo   | ... | ... |\n",
        "| Eventos     | Es algo que puede pasar<br>pero tambien que no | ... | ... |\n",
        "\n",
        "---\n",
        "\n",
        "### • 07/01/2025 - Clase 2\n",
        "\n",
        "---\n",
        "\n",
        "**Control de calidad de un software:**\n",
        "* En esta problematica se vera como solucionar ciertas cosas que puedan llegar a afectar al usuario final como el hecho de que la aplicación pueda llegar a romperse durante la ejecución o que esta en ciertos casos consuma mas memoria debido a una fuga de datos.\n",
        "\n",
        "Para evitar esto, se llevan a cabo distintas actividades:\n",
        "\n",
        "* **Pruebas de rendimiento**: Ayudan a comprobar como se comporta la aplicación cuando es sometido a mucho trabajo o cuando muchos usuarios lo usan al mismo tiempo.\n",
        "* **Pruebas de estrés**: Simulan situaciones extremas para ver si la aplicación puede manejar bien los imprevistos.\n",
        "* **Revisión del código**: Antes de que la aplicación se ejecute, se busca cualquier error que pueda causar problemas.\n",
        "* **Pruebas de memoria**: Sirven para detectar si hay errores que hacen que el programa use más recursos de los necesarios y se vuelva lento o inestable.\n",
        "* **Pruebas de usabilidad**: Aseguran que la aplicación sea fácil de usar y que cumpla con lo que los usuarios esperan."
      ],
      "metadata": {
        "id": "iDjR9xXCaFL7"
      }
    }
  ]
}